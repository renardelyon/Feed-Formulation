{
  "nbformat": 4,
  "nbformat_minor": 0,
  "metadata": {
    "colab": {
      "name": "Untitled1.ipynb",
      "provenance": [],
      "collapsed_sections": [],
      "toc_visible": true,
      "authorship_tag": "ABX9TyNu/Z6gdOEzulYn7JNjLTn1",
      "include_colab_link": true
    },
    "kernelspec": {
      "name": "python3",
      "display_name": "Python 3"
    },
    "language_info": {
      "name": "python"
    }
  },
  "cells": [
    {
      "cell_type": "markdown",
      "metadata": {
        "id": "view-in-github",
        "colab_type": "text"
      },
      "source": [
        "<a href=\"https://colab.research.google.com/github/renardelyon/Feed-Formulation/blob/main/Feed%20Optimization.ipynb\" target=\"_parent\"><img src=\"https://colab.research.google.com/assets/colab-badge.svg\" alt=\"Open In Colab\"/></a>"
      ]
    },
    {
      "cell_type": "code",
      "metadata": {
        "id": "IEury9fho9ko"
      },
      "source": [
        "!pip install -U pymoo"
      ],
      "execution_count": null,
      "outputs": []
    },
    {
      "cell_type": "code",
      "metadata": {
        "id": "ECCsexKoXHa9"
      },
      "source": [
        "import numpy as np\n",
        "from pymoo.model.problem import Problem\n",
        "from pymoo.algorithms.nsga2 import NSGA2\n",
        "from pymoo.factory import get_sampling, get_crossover, get_mutation\n",
        "from pymoo.factory import get_termination\n",
        "from pymoo.optimize import minimize"
      ],
      "execution_count": 2,
      "outputs": []
    },
    {
      "cell_type": "markdown",
      "metadata": {
        "id": "t0RFn8S3PZ6X"
      },
      "source": [
        "### MyProblem Class"
      ]
    },
    {
      "cell_type": "code",
      "metadata": {
        "id": "xhbs3rVfXLlQ"
      },
      "source": [
        "class MyProblem(Problem):\n",
        "    def __init__(self, w_air1, w_air2, w_air3, w_air4,\n",
        "                 w_pro1, w_pro2, w_pro3, w_pro4,\n",
        "                 w_lemak1, w_lemak2, w_lemak3, w_lemak4,\n",
        "                 w_sk1, w_sk2, w_sk3, w_sk4,\n",
        "                 P1, P2, P3, P4):\n",
        "        super().__init__(n_var=4,\n",
        "                         n_obj=5,\n",
        "                         n_constr=1,\n",
        "                         xl=np.array([100, 100, 100, 100]),\n",
        "                         xu=np.array([1000, 1000, 1000, 1000]))\n",
        "        \n",
        "        self.w_air1 = w_air1\n",
        "        self.w_air2 = w_air2\n",
        "        self.w_air3 = w_air3\n",
        "        self.w_air4 = w_air4\n",
        "        self.w_pro1 = w_pro1\n",
        "        self.w_pro2 = w_pro2\n",
        "        self.w_pro3 = w_pro3\n",
        "        self.w_pro4 = w_pro4\n",
        "        self.w_lemak1 = w_lemak1\n",
        "        self.w_lemak2 = w_lemak2\n",
        "        self.w_lemak3 = w_lemak3\n",
        "        self.w_lemak4 = w_lemak4\n",
        "        self.w_sk1 = w_sk1\n",
        "        self.w_sk2 = w_sk1\n",
        "        self.w_sk3 = w_sk1\n",
        "        self.w_sk4 = w_sk1\n",
        "        self.P1 = P1\n",
        "        self.P2 = P2\n",
        "        self.P3 = P3\n",
        "        self.P4 = P4\n",
        "\n",
        "    def _evaluate(self, X, out, *args, **kwargs):\n",
        "        f1 = -self.w_pro1*X[:,0] - self.w_pro2*X[:,1] - self.w_pro3*X[:,2] \\\n",
        "              - self.w_pro4*X[:,3]\n",
        "        f2 = self.w_lemak1*X[:,0] + self.w_lemak2*X[:,1] + self.w_lemak3*X[:,2]\\\n",
        "             + self.w_lemak4*X[:,3]\n",
        "        f3 = self.w_air1*X[:,0] + self.w_air2*X[:,1] + self.w_air3*X[:,2]\\\n",
        "             + self.w_air4*X[:,3]\n",
        "        f4 = self.w_sk1*X[:,0] + self.w_sk2*X[:,1] + self.w_sk3*X[:,2]\\\n",
        "             + self.w_sk4*X[:,3]\n",
        "        f5 = self.P1*X[:,0] + self.P2*X[:,1] + self.P3*X[:,2]\\\n",
        "             + self.P4*X[:,3]\n",
        "\n",
        "        g1 = (X[:,0] + X[:,1] + X[:,2] + X[:,3] - 1000)**2\n",
        "\n",
        "        out[\"F\"] = np.column_stack([f1, f2, f3, f4, f5])\n",
        "        out[\"G\"] = np.column_stack([g1])\n"
      ],
      "execution_count": 3,
      "outputs": []
    },
    {
      "cell_type": "markdown",
      "metadata": {
        "id": "pJ8x9S7dPdsb"
      },
      "source": [
        "###GAOptimization Class"
      ]
    },
    {
      "cell_type": "code",
      "metadata": {
        "id": "NCfDkFkbL9wc"
      },
      "source": [
        "class GA_Optimization:\n",
        "  def __init__(self, pop_size, n_termination, seed):\n",
        "    self.pop_size = pop_size\n",
        "    self.n_termination = n_termination\n",
        "    self.seed = seed \n",
        "  \n",
        "  def get_algorithm(self):\n",
        "    algorithm = NSGA2(pop_size=self.pop_size,\n",
        "                      n_offsprings=10,\n",
        "                      sampling=get_sampling(\"real_random\"),\n",
        "                      crossover=get_crossover(\"real_sbx\", prob=0.9, eta=15),\n",
        "                      mutation=get_mutation(\"real_pm\", eta=20),\n",
        "                      eliminate_duplicates=True)\n",
        "    return algorithm \n",
        "\n",
        "  def get_termination(self):\n",
        "    termination = get_termination(\"n_gen\", self.n_termination)\n",
        "    return termination\n",
        "\n",
        "  def get_optimization(self, problem, algorithm, termination):\n",
        "    res =  minimize(vectorized_problem,\n",
        "               algorithm,\n",
        "               termination,\n",
        "               seed=self.seed,\n",
        "               save_history=True,\n",
        "               verbose=True)\n",
        "    return res\n",
        "    "
      ],
      "execution_count": 7,
      "outputs": []
    },
    {
      "cell_type": "markdown",
      "metadata": {
        "id": "xrR6Si8chva2"
      },
      "source": [
        "### FeedInfo Class"
      ]
    },
    {
      "cell_type": "code",
      "metadata": {
        "id": "kq09sEZrsP4r"
      },
      "source": [
        "class FeedInfo:\n",
        "  def __init__(self, X):\n",
        "    self.X = X\n",
        "  \n",
        "  def feed_ratio(self):\n",
        "    ratio = self.X/1000.0\n",
        "    return ratio\n",
        "  \n",
        "  def feed_composition(self):\n",
        "    X = self.X\n",
        "    f1 = w_pro1*X[0]  + w_pro2*X[1] + w_pro3*X[2] + w_pro4*X[3]\n",
        "    f2 = w_lemak1*X[0] + w_lemak2*X[1] + w_lemak3*X[2] + w_lemak4*X[3]\n",
        "    f3 = w_air1*X[0] + w_air2*X[1] + w_air3*X[2] + w_air4*X[3]\n",
        "    f4 = w_sk1*X[0] + w_sk2*X[1] + w_sk3*X[2] + w_sk4*X[3]\n",
        "    f5 = P1*X[0] + P2*X[1] + P3*X[2] + P4*X[3]\n",
        "  \n",
        "    composition = np.array([f1, f2, f3, f4,f5], dtype='float32')/10\n",
        "    price = f5/1000\n",
        "    return composition, price\n",
        "\n"
      ],
      "execution_count": 64,
      "outputs": []
    },
    {
      "cell_type": "markdown",
      "metadata": {
        "id": "mytaTTM1NxWX"
      },
      "source": [
        "### Bahan Baku yang digunakan\n",
        "\n",
        "1.   Bekatul\n",
        "1.   Ampas tahu\n",
        "2.   Ampas kelapa \n",
        "2.   Tepung jagung\n",
        "\n"
      ]
    },
    {
      "cell_type": "code",
      "metadata": {
        "cellView": "form",
        "id": "rnWvW3BIYKO6"
      },
      "source": [
        "#@title Kadar air\n",
        "\n",
        "w_air1=0.5 #@param\n",
        "w_air2=0.7 #@param\n",
        "w_air3=0.2 #@param\n",
        "w_air4=0 #@param"
      ],
      "execution_count": 80,
      "outputs": []
    },
    {
      "cell_type": "code",
      "metadata": {
        "cellView": "form",
        "id": "dBQxa1eEYL2k"
      },
      "source": [
        "#@title Kadar protein\n",
        "w_pro1=0.12 #@param\n",
        "w_pro2=0.077 #@param\n",
        "w_pro3=0.08 #@param\n",
        "w_pro4=0 #@param"
      ],
      "execution_count": 81,
      "outputs": []
    },
    {
      "cell_type": "code",
      "metadata": {
        "cellView": "form",
        "id": "bToDT_sWYNDH"
      },
      "source": [
        "#@title Kadar lemak\n",
        "w_lemak1=0.107 #@param\n",
        "w_lemak2=0.016 #@param\n",
        "w_lemak3=0.29 #@param\n",
        "w_lemak4=0 #@param"
      ],
      "execution_count": 82,
      "outputs": []
    },
    {
      "cell_type": "code",
      "metadata": {
        "cellView": "form",
        "id": "RicBKJTKYOWU"
      },
      "source": [
        "#@title Kadar serat kasar\n",
        "w_sk1=0.052 #@param\n",
        "w_sk2=0.064 #@param\n",
        "w_sk3=0.13 #@param\n",
        "w_sk4=0 #@param"
      ],
      "execution_count": 83,
      "outputs": []
    },
    {
      "cell_type": "code",
      "metadata": {
        "cellView": "form",
        "id": "2Bj59MxdYP1C"
      },
      "source": [
        "#@title Harga bahan baku per kg\n",
        "P1=3200 #@param\n",
        "P2=1000 #@param\n",
        "P3=300 #@param\n",
        "P4=0 #@param"
      ],
      "execution_count": 84,
      "outputs": []
    },
    {
      "cell_type": "markdown",
      "metadata": {
        "id": "ekRKXdx5hc3l"
      },
      "source": [
        "### Prediction"
      ]
    },
    {
      "cell_type": "code",
      "metadata": {
        "id": "hzhhTroJo8iE"
      },
      "source": [
        "vectorized_problem = MyProblem(w_air1, w_air2, w_air3, w_air4,\n",
        "                 w_pro1, w_pro2, w_pro3, w_pro4,\n",
        "                 w_lemak1, w_lemak2, w_lemak3, w_lemak4,\n",
        "                 w_sk1, w_sk2, w_sk3, w_sk4,\n",
        "                 P1, P2, P3, P4)\n",
        "ga_optimization = GA_Optimization(100, 5000, np.random.randint(100))\n",
        "algorithm = ga_optimization.get_algorithm()\n",
        "termination = ga_optimization.get_termination()\n",
        "res = ga_optimization.get_optimization(vectorized_problem,\n",
        "                                       algorithm,\n",
        "                                       termination)"
      ],
      "execution_count": null,
      "outputs": []
    },
    {
      "cell_type": "code",
      "metadata": {
        "id": "MAl0TjHjgirW"
      },
      "source": [
        "X = res.X[0]\n",
        "feed = FeedInfo(X)\n",
        "ratio = feed.feed_ratio()\n",
        "compostion, price = feed.feed_composition()"
      ],
      "execution_count": 86,
      "outputs": []
    },
    {
      "cell_type": "code",
      "metadata": {
        "colab": {
          "base_uri": "https://localhost:8080/"
        },
        "id": "RYSoROdWl9nQ",
        "outputId": "b36737b5-d3df-4f10-9d59-607f6eefabb9"
      },
      "source": [
        "X"
      ],
      "execution_count": 89,
      "outputs": [
        {
          "output_type": "execute_result",
          "data": {
            "text/plain": [
              "array([537.00404681, 220.08080476, 116.63753899, 126.27760944])"
            ]
          },
          "metadata": {
            "tags": []
          },
          "execution_count": 89
        }
      ]
    },
    {
      "cell_type": "markdown",
      "metadata": {
        "id": "iQB1RaQVjVMc"
      },
      "source": [
        "### Info Pakan"
      ]
    },
    {
      "cell_type": "code",
      "metadata": {
        "colab": {
          "base_uri": "https://localhost:8080/"
        },
        "id": "Y1nGtw5Aj0i1",
        "outputId": "ea13f076-d6e3-4a58-d5cd-4def4bf2a2d2"
      },
      "source": [
        "#@title Rasio  bahan baku yang dibutuhkan dan prediksi harga bahan baku per kg pakan yang dibuat\n",
        "print('Kadar 1: {:.2f}\\nKadar 2: {:.2f}'.format(ratio[0],ratio[1]))\n",
        "print('Kadar 3: {:.2f}\\nKadar 4: {:.2f}\\n'.format(ratio[2],ratio[3]))\n",
        "print('Harga bahan baku/kg pakan :Rp.{:.2f}'.format(price))"
      ],
      "execution_count": 87,
      "outputs": [
        {
          "output_type": "stream",
          "text": [
            "Kadar 1: 0.54\n",
            "Kadar 2: 0.22\n",
            "Kadar 3: 0.12\n",
            "Kadar 4: 0.13\n",
            "\n",
            "Harga bahan baku/kg pakan :Rp.1973.49\n"
          ],
          "name": "stdout"
        }
      ]
    },
    {
      "cell_type": "code",
      "metadata": {
        "id": "6uVRW7XjtdWl",
        "colab": {
          "base_uri": "https://localhost:8080/"
        },
        "outputId": "347b5cb6-aef4-4a8b-817c-f5ea6582de87"
      },
      "source": [
        "#@title Prediksi komposisi pakan\n",
        "print('Kadar protein: {:.2f}%\\nKadar lemak: {:.2f}%\\nKadar air: {:.2f}%'.format(compostion[0],\n",
        "                                                                          compostion[1],\n",
        "                                                                          compostion[2]))\n",
        "print('Kadar serat kasar: {:.2f}%'.format(compostion[3]))"
      ],
      "execution_count": 88,
      "outputs": [
        {
          "output_type": "stream",
          "text": [
            "Kadar protein: 9.07%\n",
            "Kadar lemak: 9.48%\n",
            "Kadar air: 44.59%\n",
            "Kadar serat kasar: 5.72%\n"
          ],
          "name": "stdout"
        }
      ]
    }
  ]
}